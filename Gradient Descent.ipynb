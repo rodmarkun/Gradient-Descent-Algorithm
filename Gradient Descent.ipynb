{
 "cells": [
  {
   "cell_type": "markdown",
   "id": "137808f8",
   "metadata": {},
   "source": [
    "## Notebooks Import and Packages"
   ]
  },
  {
   "cell_type": "code",
   "execution_count": 40,
   "id": "6693acff",
   "metadata": {},
   "outputs": [],
   "source": [
    "import matplotlib.pyplot as plt\n",
    "import numpy as np\n",
    "\n",
    "from mpl_toolkits.mplot3d.axes3d import Axes3D\n",
    "from matplotlib import cm\n",
    "\n",
    "from sympy import symbols, diff\n",
    "from math import log\n",
    "\n",
    "%matplotlib inline"
   ]
  },
  {
   "cell_type": "markdown",
   "id": "a4618ae2",
   "metadata": {},
   "source": [
    "# Example 1 - Simple cost function\n",
    "\n",
    "$f(x) = x^2 + x + 1$"
   ]
  },
  {
   "cell_type": "code",
   "execution_count": 41,
   "id": "de491f4c",
   "metadata": {},
   "outputs": [],
   "source": [
    "def f(x):\n",
    "    return x**2 + x + 1"
   ]
  },
  {
   "cell_type": "code",
   "execution_count": 42,
   "id": "1289e2ee",
   "metadata": {},
   "outputs": [],
   "source": [
    "# Data\n",
    "x_1 = np.linspace(start=-3, stop=3, num=100)"
   ]
  },
  {
   "cell_type": "code",
   "execution_count": 43,
   "id": "733e7976",
   "metadata": {},
   "outputs": [
    {
     "data": {
      "text/plain": [
       "<function matplotlib.pyplot.show(close=None, block=None)>"
      ]
     },
     "execution_count": 43,
     "metadata": {},
     "output_type": "execute_result"
    },
    {
     "data": {
      "image/png": "[encoded data removed]",
      "text/plain": [
       "<Figure size 640x480 with 1 Axes>"
      ]
     },
     "metadata": {},
     "output_type": "display_data"
    }
   ],
   "source": [
    "# Plot\n",
    "plt.xlim([-3,3])\n",
    "plt.ylim([0,8])\n",
    "plt.xlabel('X', fontsize=16)\n",
    "plt.ylabel('f(x)', fontsize=16)\n",
    "plt.plot(x_1, f(x_1))\n",
    "plt.show"
   ]
  },
  {
   "cell_type": "markdown",
   "id": "e4054f53",
   "metadata": {},
   "source": [
    "## Slope & Derivatives"
   ]
  },
  {
   "cell_type": "code",
   "execution_count": null,
   "id": "9e258c05",
   "metadata": {},
   "outputs": [],
   "source": [
    "def df(x):\n",
    "    return 2*x + 1"
   ]
  },
  {
   "cell_type": "code",
   "execution_count": null,
   "id": "02308927",
   "metadata": {},
   "outputs": [],
   "source": [
    "# Plot function and derivative side by side\n",
    "\n",
    "plt.figure(figsize=[15,5])\n",
    "\n",
    "# 1 Chart: Cost function\n",
    "plt.subplot(1,2,1)\n",
    "\n",
    "plt.xlim([-3,3])\n",
    "plt.ylim([0,8])\n",
    "\n",
    "plt.title('Cost function', fontsize=17)\n",
    "plt.xlabel('X', fontsize=16)\n",
    "plt.ylabel('f(x)', fontsize=16)\n",
    "\n",
    "plt.plot(x_1, f(x_1), color='blue', linewidth=3)\n",
    "\n",
    "# 2 Chart: Derivative\n",
    "plt.subplot(1,2,2)\n",
    "\n",
    "plt.xlim([-2,3])\n",
    "plt.ylim([-3,6])\n",
    "\n",
    "plt.title('Slope of the cost function', fontsize=17)\n",
    "plt.grid()\n",
    "plt.xlabel('X', fontsize=16)\n",
    "plt.ylabel('df(x)', fontsize=16)\n",
    "\n",
    "plt.plot(x_1,df(x_1), color='skyblue', linewidth=5)\n",
    "\n",
    "plt.show"
   ]
  },
  {
   "cell_type": "markdown",
   "id": "505a7a1b",
   "metadata": {},
   "source": [
    "## Gradient Descent"
   ]
  },
  {
   "cell_type": "code",
   "execution_count": null,
   "id": "ebe86a0b",
   "metadata": {},
   "outputs": [],
   "source": [
    "new_x = 3\n",
    "previous_x = 0\n",
    "step_multiplier = 0.1\n",
    "precision = 0.00001\n",
    "\n",
    "x_list = [new_x]\n",
    "slope_list = [df(new_x)]\n",
    "\n",
    "while True:\n",
    "    previous_x = new_x\n",
    "    gradient = df(previous_x)\n",
    "    new_x = previous_x - step_multiplier * gradient\n",
    "    \n",
    "    x_list.append(new_x)\n",
    "    slope_list.append(df(new_x))\n",
    "    \n",
    "    step_size = abs(new_x - previous_x)\n",
    "    if step_size < precision:\n",
    "        break\n",
    "\n",
    "print(f\"Local minimum occurs at: {new_x}\")\n",
    "print(f\"Slope or df(x) value at this point is: {df(new_x)}\")\n",
    "print(f\"f(x) value or cost at this point is: {f(new_x)}\")"
   ]
  },
  {
   "cell_type": "code",
   "execution_count": null,
   "id": "6b295b45",
   "metadata": {},
   "outputs": [],
   "source": [
    "# Superimpose the gradient descent calculations in plot\n",
    "\n",
    "plt.figure(figsize=[15,5])\n",
    "\n",
    "# 1 Chart: Cost function\n",
    "plt.subplot(1,2,1)\n",
    "\n",
    "plt.xlim([-3,3])\n",
    "plt.ylim([0,8])\n",
    "\n",
    "plt.title('Cost function', fontsize=17)\n",
    "plt.xlabel('X', fontsize=16)\n",
    "plt.ylabel('f(x)', fontsize=16)\n",
    "\n",
    "plt.plot(x_1, f(x_1), color='blue', linewidth=3, alpha=0.5)\n",
    "\n",
    "values = np.array(x_list)\n",
    "plt.scatter(x_list, f(values), color='red', s=100, alpha=0.7)\n",
    "\n",
    "# 2 Chart: Derivative\n",
    "plt.subplot(1,2,2)\n",
    "\n",
    "plt.xlim([-2,3])\n",
    "plt.ylim([-3,6])\n",
    "\n",
    "plt.title('Slope of the cost function', fontsize=17)\n",
    "plt.grid()\n",
    "plt.xlabel('X', fontsize=16)\n",
    "plt.ylabel('df(x)', fontsize=16)\n",
    "\n",
    "plt.plot(x_1,df(x_1), color='skyblue', linewidth=5, alpha=0.5)\n",
    "plt.scatter(x_list, slope_list, color='red', s=100, alpha=0.7)\n",
    "\n",
    "plt.show"
   ]
  },
  {
   "cell_type": "markdown",
   "id": "7a1cf499",
   "metadata": {},
   "source": [
    "# Example 2 - Multiple Minima vs Initial Guess & Advanced Functions\n",
    "\n",
    "## $$g(x) = x^4 - 4x^2 + 5$$"
   ]
  },
  {
   "cell_type": "code",
   "execution_count": null,
   "id": "fcc50f6d",
   "metadata": {},
   "outputs": [],
   "source": [
    "# Make some data\n",
    "x_2 = np.linspace(-2, 2, 1000)\n",
    "\n",
    "def g(x):\n",
    "    return x**4 - 4*x**2 + 5\n",
    "\n",
    "def dg(x):\n",
    "    return 4*x**3 - 8*x"
   ]
  },
  {
   "cell_type": "code",
   "execution_count": null,
   "id": "c27f4d19",
   "metadata": {},
   "outputs": [],
   "source": [
    "# Plot function and derivative side by side\n",
    "\n",
    "plt.figure(figsize=[15,5])\n",
    "\n",
    "# 1 Chart: Cost function\n",
    "plt.subplot(1,2,1)\n",
    "\n",
    "plt.xlim([-2,2])\n",
    "plt.ylim([0.5,5.5])\n",
    "\n",
    "plt.title('Cost function', fontsize=17)\n",
    "plt.xlabel('X', fontsize=16)\n",
    "plt.ylabel('g(x)', fontsize=16)\n",
    "\n",
    "plt.plot(x_2, g(x_2), color='blue', linewidth=3)\n",
    "\n",
    "# 2 Chart: Derivative\n",
    "plt.subplot(1,2,2)\n",
    "\n",
    "plt.xlim([-2,2])\n",
    "plt.ylim([-6,8])\n",
    "\n",
    "plt.title('Slope of the cost function', fontsize=17)\n",
    "plt.grid()\n",
    "plt.xlabel('X', fontsize=16)\n",
    "plt.ylabel('dg(x)', fontsize=16)\n",
    "\n",
    "plt.plot(x_2,dg(x_2), color='skyblue', linewidth=5)\n",
    "\n",
    "plt.show"
   ]
  },
  {
   "cell_type": "markdown",
   "id": "2a5e6252",
   "metadata": {},
   "source": [
    "## Gradient Descent as a Python Function"
   ]
  },
  {
   "cell_type": "code",
   "execution_count": null,
   "id": "bf9a9095",
   "metadata": {},
   "outputs": [],
   "source": [
    "def gradient_descent(derivative_func, initial_guess, multiplier, precision, \n",
    "                     max_iter=300):\n",
    "    new_x = initial_guess\n",
    "\n",
    "    x_list = [new_x]\n",
    "    slope_list = [derivative_func(new_x)]\n",
    "\n",
    "    for n in range(max_iter):\n",
    "        previous_x = new_x\n",
    "        gradient = derivative_func(previous_x)\n",
    "        new_x = previous_x - multiplier * gradient\n",
    "\n",
    "        x_list.append(new_x)\n",
    "        slope_list.append(derivative_func(new_x))\n",
    "\n",
    "        step_size = abs(new_x - previous_x)\n",
    "        if step_size < precision:\n",
    "            break\n",
    "    \n",
    "    return new_x, x_list, slope_list"
   ]
  },
  {
   "cell_type": "code",
   "execution_count": null,
   "id": "bd9c3a06",
   "metadata": {},
   "outputs": [],
   "source": [
    "local_min, list_x, deriv_list = gradient_descent(derivative_func=dg, \n",
    "                                                 initial_guess=0.5, \n",
    "                                                 multiplier=0.02, \n",
    "                                                 precision=0.001)\n",
    "print('Local min occurs at:', local_min)\n",
    "print('Number of steps:', len(list_x))"
   ]
  },
  {
   "cell_type": "code",
   "execution_count": null,
   "id": "9b965356",
   "metadata": {},
   "outputs": [],
   "source": [
    "# Calling gradient descent function\n",
    "\n",
    "local_min, list_x, deriv_list = gradient_descent(derivative_func=dg, \n",
    "                                                 initial_guess=0.1, \n",
    "                                                 multiplier=0.02, \n",
    "                                                 precision=0.001)\n",
    "\n",
    "# Plot function and derivative and scatter plot side by side\n",
    "\n",
    "plt.figure(figsize=[15,5])\n",
    "\n",
    "# 1 Chart: Cost function\n",
    "plt.subplot(1,2,1)\n",
    "\n",
    "plt.xlim([-2,2])\n",
    "plt.ylim([0.5,5.5])\n",
    "\n",
    "plt.title('Cost function', fontsize=17)\n",
    "plt.xlabel('X', fontsize=16)\n",
    "plt.ylabel('g(x)', fontsize=16)\n",
    "\n",
    "plt.plot(x_2, g(x_2), color='blue', linewidth=3)\n",
    "plt.scatter(list_x, g(np.array(list_x)), color='red', s=100, alpha=0.7)\n",
    "\n",
    "# 2 Chart: Derivative\n",
    "plt.subplot(1,2,2)\n",
    "\n",
    "plt.xlim([-2,2])\n",
    "plt.ylim([-6,8])\n",
    "\n",
    "plt.title('Slope of the cost function', fontsize=17)\n",
    "plt.grid()\n",
    "plt.xlabel('X', fontsize=16)\n",
    "plt.ylabel('dg(x)', fontsize=16)\n",
    "\n",
    "plt.plot(x_2,dg(x_2), color='skyblue', linewidth=5)\n",
    "plt.scatter(list_x, deriv_list, color='red', s=100, alpha=0.7)\n",
    "\n",
    "plt.show"
   ]
  },
  {
   "cell_type": "markdown",
   "id": "f6278a46",
   "metadata": {},
   "source": [
    "# Example 3 - Divergence\n",
    "\n",
    "## $$h(x) = x^5 - 2x^4 + 2$$"
   ]
  },
  {
   "cell_type": "code",
   "execution_count": null,
   "id": "8f669d0d",
   "metadata": {},
   "outputs": [],
   "source": [
    "# Make data\n",
    "x_3 = np.linspace(start=-2.5, stop=2.5, num=1000)\n",
    "\n",
    "def h(x):\n",
    "    return x**5 - 2*x**4 + 2\n",
    "\n",
    "def dh(x):\n",
    "    return 5*x**4 - 8*x**3"
   ]
  },
  {
   "cell_type": "code",
   "execution_count": null,
   "id": "3660acee",
   "metadata": {},
   "outputs": [],
   "source": [
    "# Calling gradient descent function\n",
    "\n",
    "local_min, list_x, deriv_list = gradient_descent(derivative_func=dh, \n",
    "                                                 initial_guess=-0.2, \n",
    "                                                 multiplier=0.02, \n",
    "                                                 precision=0.001,\n",
    "                                                 max_iter=70)\n",
    "\n",
    "# Plot function and derivative and scatter plot side by side\n",
    "\n",
    "plt.figure(figsize=[15,5])\n",
    "\n",
    "# 1 Chart: Cost function\n",
    "plt.subplot(1,2,1)\n",
    "\n",
    "plt.xlim([-1.2,2.5])\n",
    "plt.ylim([-1,4])\n",
    "\n",
    "plt.title('Cost function', fontsize=17)\n",
    "plt.xlabel('X', fontsize=16)\n",
    "plt.ylabel('h(x)', fontsize=16)\n",
    "\n",
    "plt.plot(x_3, h(x_3), color='blue', linewidth=3)\n",
    "plt.scatter(list_x, h(np.array(list_x)), color='red', s=100, alpha=0.7)\n",
    "\n",
    "# 2 Chart: Derivative\n",
    "plt.subplot(1,2,2)\n",
    "\n",
    "plt.xlim([-1,2])\n",
    "plt.ylim([-4,5])\n",
    "\n",
    "plt.title('Slope of the cost function', fontsize=17)\n",
    "plt.grid()\n",
    "plt.xlabel('X', fontsize=16)\n",
    "plt.ylabel('dh(x)', fontsize=16)\n",
    "\n",
    "plt.plot(x_3,dh(x_3), color='skyblue', linewidth=5)\n",
    "plt.scatter(list_x, deriv_list, color='red', s=100, alpha=0.7)\n",
    "\n",
    "plt.show\n",
    "\n",
    "print(\"Local min occurs at: \", local_min)\n",
    "print(\"Cost at this minimum is: \", h(local_min))\n",
    "print(\"Number of steps: \", len(list_x))"
   ]
  },
  {
   "cell_type": "markdown",
   "id": "b90cc147",
   "metadata": {},
   "source": [
    "# The Learning Rate"
   ]
  },
  {
   "cell_type": "code",
   "execution_count": null,
   "id": "7fa70739",
   "metadata": {},
   "outputs": [],
   "source": [
    "n = 100\n",
    "low_gamma = gradient_descent(derivative_func=dg, \n",
    "                                                 initial_guess=3, \n",
    "                                                 multiplier=0.0005, \n",
    "                                                 precision=0.0001,\n",
    "                                                 max_iter=n)\n",
    "mid_gamma = gradient_descent(derivative_func=dg, \n",
    "                                                 initial_guess=3, \n",
    "                                                 multiplier=0.001, \n",
    "                                                 precision=0.0001,\n",
    "                                                 max_iter=n)\n",
    "high_gamma = gradient_descent(derivative_func=dg, \n",
    "                                                 initial_guess=3, \n",
    "                                                 multiplier=0.002, \n",
    "                                                 precision=0.0001,\n",
    "                                                 max_iter=n)\n",
    "\n",
    "# Plotting reduction in cost for each iteration\n",
    "\n",
    "plt.figure(figsize=[20,10])\n",
    "\n",
    "# 1 Chart: Cost function\n",
    "\n",
    "plt.xlim([0,n])\n",
    "plt.ylim([0,50])\n",
    "\n",
    "plt.title('Effect of the learning rate', fontsize=17)\n",
    "plt.xlabel('No of iterations', fontsize=16)\n",
    "plt.ylabel('Cost', fontsize=16)\n",
    "\n",
    "# Values for our charts\n",
    "# 1) Y Axis Data: convert the list to numpy arrays\n",
    "low_values = np.array(low_gamma[1])\n",
    "mid_values = np.array(mid_gamma[1])\n",
    "high_values = np.array(high_gamma[1])\n",
    "\n",
    "# 2) X Axis Data: create a list from 0 to n+1\n",
    "iteration_list = list(range(0, n+1))\n",
    "\n",
    "# Plotting low learning rate\n",
    "plt.plot(iteration_list, g(low_values), color='green', linewidth=3)\n",
    "plt.scatter(iteration_list, g(low_values), color='green', s=100, alpha=0.7)\n",
    "\n",
    "# Plotting mid learning rate\n",
    "plt.plot(iteration_list, g(mid_values), color='steelblue', linewidth=3)\n",
    "plt.scatter(iteration_list, g(mid_values), color='steelblue', s=100, alpha=0.7)\n",
    "\n",
    "# Plotting high learning rate\n",
    "plt.plot(iteration_list, g(high_values), color='hotpink', linewidth=3)\n",
    "plt.scatter(iteration_list, g(high_values), color='hotpink', s=100, alpha=0.7)\n",
    "\n",
    "plt.show()"
   ]
  },
  {
   "cell_type": "markdown",
   "id": "d07bd230",
   "metadata": {},
   "source": [
    "# Example 4 - Data Visualization with 3D Charts\n",
    "\n",
    "## Minimise $$f(x,y) = \\frac{1}{3^{-x^2-y^2} + 1}$$"
   ]
  },
  {
   "cell_type": "code",
   "execution_count": null,
   "id": "9f1c83e4",
   "metadata": {},
   "outputs": [],
   "source": [
    "def f(x, y):\n",
    "    r = 3**(-x**2 - y**2)\n",
    "    return 1 / (r+1)"
   ]
  },
  {
   "cell_type": "code",
   "execution_count": null,
   "id": "0b7ee4a3",
   "metadata": {},
   "outputs": [],
   "source": [
    "# Make our x and y data\n",
    "x_4 = np.linspace(start=-2, stop=2, num=200)\n",
    "y_4 = np.linspace(start=-2, stop=2, num=200)\n",
    "\n",
    "print('Shape of X array', x_4.shape)\n",
    "\n",
    "# Transform to two-dimensional arrays\n",
    "x_4, y_4 = np.meshgrid(x_4, y_4)\n",
    "print('Array after meshgrid: ', x_4.shape)"
   ]
  },
  {
   "cell_type": "code",
   "execution_count": null,
   "id": "5e6ba66b",
   "metadata": {},
   "outputs": [],
   "source": [
    "# Generating 3D Plot\n",
    "fig = plt.figure(figsize = [16, 12])\n",
    "ax = fig.add_subplot(projection='3d') # Get current axis\n",
    "\n",
    "ax.set_xlabel('X', fontsize=20)\n",
    "ax.set_ylabel('Y', fontsize=20)\n",
    "ax.set_zlabel('f(x,y) - Cost', fontsize=20)\n",
    "\n",
    "ax.plot_surface(x_4, y_4, f(x_4, y_4), cmap=cm.coolwarm, alpha=0.5)\n",
    "\n",
    "plt.show()"
   ]
  },
  {
   "cell_type": "markdown",
   "id": "4cf14ba8",
   "metadata": {},
   "source": [
    "## Partial Derivatives & Symbolic Computation"
   ]
  },
  {
   "cell_type": "code",
   "execution_count": null,
   "id": "4558591c",
   "metadata": {},
   "outputs": [],
   "source": [
    "a, b = symbols('x, y')\n",
    "print('Our cost function f(x, y) is: ', f(a,b))\n",
    "print('Partial derivative with respect to x is: ', diff(f(a,b), a))\n",
    "print('Value of f(x,y) at x=1.8 and y=1.0 is: ', f(a,b).evalf(subs={a:1.8,b:1.0})) # Cost at these values\n",
    "print('Value of partial derivative with respecto to x: ',diff(f(a,b), a).evalf(subs={a:1.8, b:1.0}))"
   ]
  },
  {
   "cell_type": "markdown",
   "id": "e6f4cb54",
   "metadata": {},
   "source": [
    "## Batch Gradient Descent with Sympy"
   ]
  },
  {
   "cell_type": "code",
   "execution_count": null,
   "id": "f64c7e20",
   "metadata": {},
   "outputs": [],
   "source": [
    "# Setup\n",
    "multiplier = 0.1\n",
    "max_iter = 200\n",
    "params = np.array([1.8, 1.0]) # Initial guess\n",
    "\n",
    "for n in range(max_iter):\n",
    "    gradient_x = diff(f(a,b),a).evalf(subs={a:params[0], b:params[1]})\n",
    "    gradient_y = diff(f(a,b),b).evalf(subs={a:params[0], b:params[1]})\n",
    "    gradients = np.array([gradient_x, gradient_y])\n",
    "    params = params - multiplier * gradients\n",
    "    \n",
    "# Results\n",
    "print('Values in gradient array', gradients)\n",
    "print('Minimum occurs at x value of: ', params[0])\n",
    "print('Minimum occurs at x value of: ', params[1])\n",
    "print('The cost is: ', f(params[0], params[1]))"
   ]
  },
  {
   "cell_type": "code",
   "execution_count": null,
   "id": "41e6decd",
   "metadata": {},
   "outputs": [],
   "source": [
    "def fpx(x, y):\n",
    "    r = 3**(-x**2 - y**2)\n",
    "    return 2*x*log(3)*r/(r+1)**2\n",
    "def fpy(x, y):\n",
    "    r = 3**(-x**2 - y**2)\n",
    "    return 2*y*log(3)*r/(r+1)**2"
   ]
  },
  {
   "cell_type": "code",
   "execution_count": null,
   "id": "75b3c880",
   "metadata": {},
   "outputs": [],
   "source": [
    "# Setup\n",
    "multiplier = 0.1\n",
    "max_iter = 200\n",
    "params = np.array([1.8, 1.0]) # Initial guess\n",
    "\n",
    "for n in range(max_iter):\n",
    "    gradient_x = fpx(params[0], params[1])\n",
    "    gradient_y = fpy(params[0], params[1])\n",
    "    gradients = np.array([gradient_x, gradient_y])\n",
    "    params = params - multiplier * gradients\n",
    "    \n",
    "# Results\n",
    "print('Values in gradient array', gradients)\n",
    "print('Minimum occurs at x value of: ', params[0])\n",
    "print('Minimum occurs at x value of: ', params[1])\n",
    "print('The cost is: ', f(params[0], params[1]))"
   ]
  },
  {
   "cell_type": "markdown",
   "id": "0697db6b",
   "metadata": {},
   "source": []
  },
  {
   "cell_type": "code",
   "execution_count": null,
   "id": "8e4e8030",
   "metadata": {},
   "outputs": [],
   "source": []
  },
  {
   "cell_type": "code",
   "execution_count": null,
   "id": "b8c99758",
   "metadata": {},
   "outputs": [],
   "source": []
  },
  {
   "cell_type": "code",
   "execution_count": null,
   "id": "1712a8a9",
   "metadata": {},
   "outputs": [],
   "source": []
  }
 ],
 "metadata": {
  "kernelspec": {
   "display_name": "Python 3 (ipykernel)",
   "language": "python",
   "name": "python3"
  },
  "language_info": {
   "codemirror_mode": {
    "name": "ipython",
    "version": 3
   },
   "file_extension": ".py",
   "mimetype": "text/x-python",
   "name": "python",
   "nbconvert_exporter": "python",
   "pygments_lexer": "ipython3",
   "version": "3.9.5"
  }
 },
 "nbformat": 4,
 "nbformat_minor": 5
}
